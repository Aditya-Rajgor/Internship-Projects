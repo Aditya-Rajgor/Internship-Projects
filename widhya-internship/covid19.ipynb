{
  "nbformat": 4,
  "nbformat_minor": 0,
  "metadata": {
    "colab": {
      "name": "covid19.ipynb",
      "provenance": [],
      "collapsed_sections": []
    },
    "kernelspec": {
      "name": "python3",
      "display_name": "Python 3"
    }
  },
  "cells": [
    {
      "cell_type": "code",
      "metadata": {
        "id": "0YxwekFvaHOB"
      },
      "source": [
        "import pandas as pd\r\n",
        "import datetime as dt"
      ],
      "execution_count": null,
      "outputs": []
    },
    {
      "cell_type": "code",
      "metadata": {
        "id": "oD0SWwK-aKd1"
      },
      "source": [
        "df = pd.read_csv('https://raw.githubusercontent.com/WidhyaOrg/datasets/master/covid19.csv')"
      ],
      "execution_count": null,
      "outputs": []
    },
    {
      "cell_type": "code",
      "metadata": {
        "colab": {
          "base_uri": "https://localhost:8080/"
        },
        "id": "QsL5fwjHaWPl",
        "outputId": "8a1a11a5-e57e-4cf8-a7e4-bf75546de0c7"
      },
      "source": [
        "df['Date'].dt.day_name()"
      ],
      "execution_count": null,
      "outputs": [
        {
          "output_type": "execute_result",
          "data": {
            "text/plain": [
              "0      Thursday\n",
              "1        Friday\n",
              "2      Saturday\n",
              "3        Sunday\n",
              "4        Monday\n",
              "         ...   \n",
              "265    Saturday\n",
              "266    Saturday\n",
              "267    Saturday\n",
              "268    Saturday\n",
              "269    Saturday\n",
              "Name: Date, Length: 270, dtype: object"
            ]
          },
          "metadata": {
            "tags": []
          },
          "execution_count": 62
        }
      ]
    },
    {
      "cell_type": "code",
      "metadata": {
        "id": "vzBXPnKEaXAF"
      },
      "source": [
        "df['Date'] = pd.to_datetime(df['Date'], format='%d/%m/%y')"
      ],
      "execution_count": null,
      "outputs": []
    },
    {
      "cell_type": "code",
      "metadata": {
        "id": "NTta6Emqbm2f"
      },
      "source": [
        "df['total_cases'] = df['ConfirmedIndianNational']+df['ConfirmedForeignNational']+df['Cured']+df['Deaths']"
      ],
      "execution_count": null,
      "outputs": []
    },
    {
      "cell_type": "code",
      "metadata": {
        "id": "J03wTVa9vMFt"
      },
      "source": [
        "df['total_confirmed'] = df['ConfirmedForeignNational']+df['ConfirmedIndianNational']"
      ],
      "execution_count": null,
      "outputs": []
    },
    {
      "cell_type": "code",
      "metadata": {
        "id": "Ejx1KuQNx-ve"
      },
      "source": [
        "df.set_index('Date', inplace=True)"
      ],
      "execution_count": null,
      "outputs": []
    },
    {
      "cell_type": "code",
      "metadata": {
        "id": "_7oXIGhPvLOX"
      },
      "source": [
        "daily_increase = df['total_confirmed'].resample('D').sum()"
      ],
      "execution_count": null,
      "outputs": []
    },
    {
      "cell_type": "code",
      "metadata": {
        "id": "y4ZxkdiN0Vja"
      },
      "source": [
        "daily_increase_rate = daily_increase.diff()/daily_increase"
      ],
      "execution_count": null,
      "outputs": []
    },
    {
      "cell_type": "code",
      "metadata": {
        "colab": {
          "base_uri": "https://localhost:8080/"
        },
        "id": "QKXOiial00iI",
        "outputId": "37e2a285-6530-4c68-8682-0cb11e7da5c7"
      },
      "source": [
        "daily_increase_rate['2020-03-04':'2020-03-21'].mean()"
      ],
      "execution_count": null,
      "outputs": [
        {
          "output_type": "execute_result",
          "data": {
            "text/plain": [
              "0.1611251819672049"
            ]
          },
          "metadata": {
            "tags": []
          },
          "execution_count": 122
        }
      ]
    },
    {
      "cell_type": "code",
      "metadata": {
        "id": "hRco3jPLzZvf"
      },
      "source": [
        "import math"
      ],
      "execution_count": null,
      "outputs": []
    },
    {
      "cell_type": "code",
      "metadata": {
        "colab": {
          "base_uri": "https://localhost:8080/"
        },
        "id": "107KwKiF1MIB",
        "outputId": "7f04a74c-9985-4065-a6bc-bed1eca5fddc"
      },
      "source": [
        "31*math.exp(0.161125*26)"
      ],
      "execution_count": null,
      "outputs": [
        {
          "output_type": "execute_result",
          "data": {
            "text/plain": [
              "2045.1720653752034"
            ]
          },
          "metadata": {
            "tags": []
          },
          "execution_count": 124
        }
      ]
    }
  ]
}